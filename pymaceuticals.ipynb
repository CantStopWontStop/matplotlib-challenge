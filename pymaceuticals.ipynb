{
 "cells": [
  {
   "cell_type": "code",
   "execution_count": 2,
   "id": "bd5b5db0",
   "metadata": {},
   "outputs": [],
   "source": [
    "import pandas as pd\n",
    "import numpy as np\n",
    "import matplotlib.pyplot as plt\n",
    "from scipy.stats import sem\n",
    "import scipy.stats as st\n",
    "from scipy.stats import linregress\n",
    "from IPython.display import Markdown\n",
    "from tabulate import tabulate"
   ]
  },
  {
   "cell_type": "code",
   "execution_count": null,
   "id": "6dfd4557",
   "metadata": {},
   "outputs": [],
   "source": [
    "# Read in data\n",
    "mouse_data    = pd.read_csv(\"data/Mouse_metadata.csv\")\n",
    "study_results = pd.read_csv(\"data/Study_results.csv\")"
   ]
  },
  {
   "cell_type": "code",
   "execution_count": 3,
   "id": "687ff0bc",
   "metadata": {},
   "outputs": [],
   "source": [
    "# Combine mouse and trial results\n",
    "mouse_results = pd.merge(mouse_data, study_results, on = \"Mouse ID\")\n",
    "# Two ways to get number of unique mice \n",
    "len(mouse_data)\n",
    "n_unique_mice = len(mouse_results[\"Mouse ID\"].value_counts())\n",
    "\n",
    "# Get unique observations; each mouse at each timepoint\n",
    "mouse_results[\"Mouse Time\"] = mouse_results[\"Mouse ID\"] + mouse_results[\"Timepoint\"].map(str)\n",
    "\n",
    "# Remove duplicate rows\n",
    "mouse_results = mouse_results[~mouse_results[\"Mouse Time\"].duplicated()]"
   ]
  },
  {
   "cell_type": "markdown",
   "id": "e199762c",
   "metadata": {},
   "source": [
    "# Generate Summary Statistics"
   ]
  },
  {
   "cell_type": "code",
   "execution_count": null,
   "id": "18d60ae7",
   "metadata": {},
   "outputs": [],
   "source": [
    "regimen_group = mouse_results.groupby('Drug Regimen')\n",
    "\n",
    "# Create column for each of the following statistics: mean, median, variance, standard deviation, and SEM of the tumor volume.\n",
    "tumor_mean = regimen_group['Tumor Volume (mm3)'].mean()\n",
    "tumor_median = regimen_group['Tumor Volume (mm3)'].median()\n",
    "tumor_var = regimen_group['Tumor Volume (mm3)'].var()\n",
    "tumor_std = regimen_group['Tumor Volume (mm3)'].std()\n",
    "tumor_sem = regimen_group['Tumor Volume (mm3)'].sem()\n",
    "tumor_tmpts = regimen_group['Timepoint'].count()\n",
    "\n",
    "# Create dataframe with new columns\n",
    "tumor_by_reg_sum = pd.DataFrame({\"Mean\": tumor_mean,\n",
    "                                \"Median\": tumor_median, \n",
    "                                \"Variance\": tumor_var, \n",
    "                                \"Standard Deviation\":tumor_std,\n",
    "                                \"Standard Error\":tumor_sem,\n",
    "                                \"Number of Timepoints\":tumor_tmpts})\n",
    "\n",
    "Markdown(tabulate(\n",
    "  tumor_by_reg_sum,\n",
    "  headers = list(tumor_by_reg_sum.columns.values)))"
   ]
  },
  {
   "cell_type": "markdown",
   "id": "074fa97a",
   "metadata": {},
   "source": [
    "# Create Bar Charts and Pie Charts\n",
    "\n",
    "## Bar Charts"
   ]
  },
  {
   "cell_type": "code",
   "execution_count": null,
   "id": "a34986b8",
   "metadata": {},
   "outputs": [],
   "source": [
    "x_axis = np.arange(len(tumor_by_reg_sum.index))\n",
    "\n",
    "\n",
    "plt.bar(x_axis,\n",
    "        tumor_by_reg_sum['Number of Timepoints'],\n",
    "        color =\"#0f2537\" ,\n",
    "        align = \"center\")\n",
    "        \n",
    "tick_locations = [value for value in x_axis]\n",
    "plt.xticks(tick_locations,\n",
    "           tumor_by_reg_sum.index,\n",
    "           rotation = 45)\n",
    "\n",
    "plt.title(\"Number of Timepoints by Drug Regimen\")\n",
    "plt.xlabel(\"Drug Regimen\")\n",
    "plt.ylabel(\"Number of Timepoints\")\n",
    "\n",
    "plt.show()"
   ]
  },
  {
   "cell_type": "code",
   "execution_count": null,
   "id": "618e8910",
   "metadata": {},
   "outputs": [],
   "source": [
    "tumor_by_reg_sum = tumor_by_reg_sum.sort_values(by='Number of Timepoints', ascending = False)\n",
    "\n",
    "fig, ax = plt.subplots()\n",
    "y_axis = tumor_by_reg_sum.index\n",
    "x_axis = tumor_by_reg_sum['Number of Timepoints']\n",
    "\n",
    "y_range = np.arange(len(y_axis))\n",
    "ax.barh(y_range,x_axis,color =\"#0f2537\",  align='center')\n",
    "\n",
    "ax.set_yticks(y_range, labels=y_axis)\n",
    "ax.invert_yaxis()  # labels read top-to-bottom\n",
    "ax.set_xlabel('Number of Timepoints')\n",
    "ax.set_ylabel('Drug Regimen')\n",
    "ax.set_title('Number of Timepoints by Drug Regimen')\n",
    "\n",
    "plt.show()"
   ]
  },
  {
   "cell_type": "markdown",
   "id": "52076f47",
   "metadata": {},
   "source": [
    "## Pie Charts"
   ]
  },
  {
   "cell_type": "code",
   "execution_count": null,
   "id": "7d5e5f99",
   "metadata": {},
   "outputs": [],
   "source": [
    "gender_sum = [mouse_data.loc[mouse_data.Sex=='Female',\"Mouse ID\"].count(),\n",
    "mouse_data.loc[mouse_data.Sex=='Male',\"Mouse ID\"].count()]\n",
    "sexes = [\"Female\", \"Male\"]\n",
    "\n",
    "#pie = plt.figure(1)\n",
    "\n",
    "plt.pie(gender_sum, labels = sexes,autopct=\"%1.1f%%\")\n",
    "plt.show()"
   ]
  },
  {
   "cell_type": "markdown",
   "id": "cf4c96ff",
   "metadata": {},
   "source": [
    "# Calculate Quartiles, Find Outliers, and Create a Box Plot\n",
    "\n",
    "## Calculate Quartiles"
   ]
  },
  {
   "cell_type": "code",
   "execution_count": null,
   "id": "924ac77f",
   "metadata": {},
   "outputs": [],
   "source": [
    "# Rename column to remove space\n",
    "mouse_results.rename(columns = {'Drug Regimen':'Drug'}, inplace = True)\n",
    "\n",
    "# Filter data frame to four of the most promising treatment regimens: Capomulin, Ramicane, Infubinol, and Ceftamin. Then, calculate the quartiles and IQR, and determine if there are any potential outliers across all four treatment regimens. Use the following substeps:\n",
    "best_drug_ls = ['Capomulin', 'Ramicane', 'Infubinol', 'Ceftamin']\n",
    "best_drug_df = mouse_results[(mouse_results['Drug'].isin(best_drug_ls))]\n",
    "\n",
    "# Create a grouped DataFrame that shows the last (greatest) time point for each mouse.\n",
    "mouse_by_drug = best_drug_df.groupby(['Mouse ID', 'Drug'])\n",
    "\n",
    "# calculate the quartiles and IQR, and determine if there are any potential outliers across all four treatment regimens.\n",
    "mbr_max_tmpts = mouse_by_drug.max('Timepoint')\n",
    "mbr_max_tmpts.reset_index(inplace = True)\n",
    "\n",
    "top_drug_groups = mbr_max_tmpts.groupby('Drug')\n",
    "\n",
    "Q1 = top_drug_groups['Tumor Volume (mm3)'].quantile(0.25)\n",
    "Q2 = top_drug_groups['Tumor Volume (mm3)'].median()\n",
    "Q3 = top_drug_groups['Tumor Volume (mm3)'].quantile(0.75)\n",
    "iqr = Q3 - Q1\n",
    "lower_bound = Q1 - (1.5*iqr)\n",
    "upper_bound = Q3 + (1.5*iqr)\n",
    "\n",
    "\n",
    "tvol_by_drug = pd.DataFrame({\"Q1\": Q1,\n",
    "                             \"Q2\": Q2,\n",
    "                             \"Q3\": Q3,\n",
    "                            \"iqr\" : iqr,\n",
    "                             'lower_bound' : lower_bound,\n",
    "                             'upper_bound' : upper_bound})\n",
    "\n",
    "Markdown(tabulate(\n",
    "  tvol_by_drug,\n",
    "  headers = list(tvol_by_drug.columns.values)))\n"
   ]
  },
  {
   "cell_type": "markdown",
   "id": "709b77c3",
   "metadata": {},
   "source": [
    "## Find Outliers\n",
    "\n",
    "### Outliers for Tumor Size"
   ]
  },
  {
   "cell_type": "code",
   "execution_count": null,
   "id": "fe6fb330",
   "metadata": {},
   "outputs": [],
   "source": [
    "counter = 0\n",
    "for i in range(len(tvol_by_drug)):\n",
    "    for row, col in mbr_max_tmpts.iterrows():\n",
    "        if col['Drug'] == tvol_by_drug.index[counter] and (col['Tumor Volume (mm3)'] < tvol_by_drug.iloc[counter][4] or col['Tumor Volume (mm3)'] > tvol_by_drug.iloc[counter][5]):\n",
    "            print(row,col[0], col[1], col['Timepoint'], col['Tumor Volume (mm3)'], tvol_by_drug.iloc[counter][4],tvol_by_drug.iloc[counter][5], counter)\n",
    "    counter += 1"
   ]
  },
  {
   "cell_type": "markdown",
   "id": "ef2e738a",
   "metadata": {},
   "source": [
    "### Boxplot for Tumor Size"
   ]
  },
  {
   "cell_type": "code",
   "execution_count": null,
   "id": "0b7f09ad",
   "metadata": {},
   "outputs": [],
   "source": [
    "Capomulin = mbr_max_tmpts.loc[mbr_max_tmpts['Drug'] == \"Capomulin\"]\n",
    "Ceftamin = mbr_max_tmpts.loc[mbr_max_tmpts['Drug'] == \"Ceftamin\"]\n",
    "Infubinol = mbr_max_tmpts.loc[mbr_max_tmpts['Drug'] == \"Infubinol\"]\n",
    "Ramicane = mbr_max_tmpts.loc[mbr_max_tmpts['Drug'] == \"Ramicane\"]\n",
    "\n",
    "Capomulin_tvols = Capomulin['Tumor Volume (mm3)']\n",
    "Ceftamin_tvols = Ceftamin['Tumor Volume (mm3)']\n",
    "Infubinol_tvols = Infubinol['Tumor Volume (mm3)']\n",
    "Ramicane_tvols = Ramicane['Tumor Volume (mm3)']\n",
    "\n",
    "columns = [Capomulin_tvols, Ceftamin_tvols, Infubinol_tvols, Ramicane_tvols]\n",
    "\n",
    "\n",
    "fig1, ax1 = plt.subplots()\n",
    "ax1.set_title('Tumor Volume at Lastest Timepoint by Top Four Drug Regimens')\n",
    "ax1.set_ylabel('Tumor Volume (mm3)')\n",
    "ax1.boxplot(columns)\n",
    "plt.xticks([1, 2, 3, 4], [\"Capomulin\", \"Ceftamin\", \"Infubinol\", \"Ramicane\"])\n",
    "\n",
    "plt.show()"
   ]
  },
  {
   "cell_type": "markdown",
   "id": "5ed82fdf",
   "metadata": {},
   "source": [
    "No outliers detected."
   ]
  },
  {
   "cell_type": "markdown",
   "id": "7d3f5186",
   "metadata": {},
   "source": [
    "# Create a Line Plot and a Scatter Plot\n",
    "\n",
    "## Line Plot"
   ]
  },
  {
   "cell_type": "code",
   "execution_count": null,
   "id": "ef10031a",
   "metadata": {},
   "outputs": [],
   "source": [
    "capomulin_results = mouse_results.loc[mouse_results['Drug'] == \"Capomulin\"]\n",
    "mouse = pd.unique(capomulin_results['Mouse ID'])[0]\n",
    "mouse_data = mouse_results.loc[mouse_results['Mouse ID'] == mouse]\n",
    "\n",
    "\n",
    "x_axis_data = np.arange(len(mouse_data))\n",
    "y_axis_data = mouse_data['Tumor Volume (mm3)']\n",
    "plt.plot(x_axis_data, y_axis_data, color =\"#0f2537\")\n",
    "\n",
    "tick_locations = [value for value in x_axis_data]\n",
    "plt.xticks(tick_locations,\n",
    "           mouse_data['Timepoint'],\n",
    "           rotation = 45)\n",
    "\n",
    "plt.title(f'Tumor Volume by Timepont for Mouse #{mouse}')\n",
    "plt.xlabel(\"Timepoint (Days)\")\n",
    "plt.ylabel(\"Tumor Volume (mm3)\")\n",
    "\n",
    "plt.show()"
   ]
  },
  {
   "cell_type": "markdown",
   "id": "6b093c53",
   "metadata": {},
   "source": [
    "## Scatter Plot"
   ]
  },
  {
   "cell_type": "code",
   "execution_count": null,
   "id": "097d2e56",
   "metadata": {},
   "outputs": [],
   "source": [
    "weight = mbr_max_tmpts['Weight (g)']\n",
    "\n",
    "\n",
    "volume = mbr_max_tmpts['Tumor Volume (mm3)']\n",
    "\n",
    "plt.scatter(weight, volume, marker=\"o\" ,facecolors =\"#0f2537\" , edgecolors=\"orange\")\n",
    "\n",
    "plt.title('Tumor Volume by Weight for Capomulin Regimen')\n",
    "plt.xlabel(\"Weight\")\n",
    "plt.ylabel(\"Tumor Volume (mm3)\")\n",
    "\n",
    "plt.show()"
   ]
  },
  {
   "cell_type": "markdown",
   "id": "07e48402",
   "metadata": {},
   "source": [
    "# Calculate Correlation and Regression\n",
    "\n",
    "## Correlation"
   ]
  },
  {
   "cell_type": "code",
   "execution_count": null,
   "id": "54cfcb21",
   "metadata": {},
   "outputs": [],
   "source": [
    "correlation = st.pearsonr(weight,volume)\n",
    "print(f\"The correlation between both factors is {round(correlation[0],2)}\")"
   ]
  },
  {
   "cell_type": "markdown",
   "id": "2d47d77b",
   "metadata": {},
   "source": [
    "## Regression"
   ]
  },
  {
   "cell_type": "code",
   "execution_count": null,
   "id": "ea24b3f6",
   "metadata": {},
   "outputs": [],
   "source": [
    "(slope, intercept, rvalue, pvalue, stderr) = linregress(weight, volume)\n",
    "regress_values = weight * slope + intercept\n",
    "line_eq = \"y = \" + str(round(slope,2)) + \"x + \" + str(round(intercept,2))\n",
    "plt.scatter(weight,volume,marker=\"o\",facecolors =\"#0f2537\" ,edgecolors=\"orange\")\n",
    "plt.plot(weight,regress_values,\"r-\")\n",
    "plt.annotate(line_eq,(5.8,0.8),fontsize=15,color=\"red\")\n",
    "plt.title('Tumor Volume by Weight for Capomulin Regimen')\n",
    "plt.xlabel(\"Weight\")\n",
    "plt.ylabel(\"Tumor Volume (mm3)\")\n",
    "plt.show()"
   ]
  }
 ],
 "metadata": {
  "kernelspec": {
   "display_name": "Python 3 (ipykernel)",
   "language": "python",
   "name": "python3"
  },
  "language_info": {
   "codemirror_mode": {
    "name": "ipython",
    "version": 3
   },
   "file_extension": ".py",
   "mimetype": "text/x-python",
   "name": "python",
   "nbconvert_exporter": "python",
   "pygments_lexer": "ipython3",
   "version": "3.10.7"
  },
  "vscode": {
   "interpreter": {
    "hash": "26de051ba29f2982a8de78e945f0abaf191376122a1563185a90213a26c5da77"
   }
  }
 },
 "nbformat": 4,
 "nbformat_minor": 5
}
